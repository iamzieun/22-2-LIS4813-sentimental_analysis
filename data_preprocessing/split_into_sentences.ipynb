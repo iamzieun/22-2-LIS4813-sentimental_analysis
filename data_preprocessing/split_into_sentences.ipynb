{
  "nbformat": 4,
  "nbformat_minor": 0,
  "metadata": {
    "colab": {
      "provenance": [],
      "toc_visible": true
    },
    "kernelspec": {
      "name": "python3",
      "display_name": "Python 3"
    },
    "language_info": {
      "name": "python"
    }
  },
  "cells": [
    {
      "cell_type": "markdown",
      "source": [
        "# 리뷰 문장 단위로 split\n",
        "- 참고: https://docs.likejazz.com/kss/#python"
      ],
      "metadata": {
        "id": "i_VMdCmwfTRf"
      }
    },
    {
      "cell_type": "markdown",
      "source": [
        "## 구글드라이브 마운트, 라이브러리 호출"
      ],
      "metadata": {
        "id": "tACrClmyfY7s"
      }
    },
    {
      "cell_type": "code",
      "execution_count": null,
      "metadata": {
        "colab": {
          "base_uri": "https://localhost:8080/"
        },
        "id": "pBYNFL9aLIvf",
        "outputId": "e7ab5b3b-8121-4ba7-cddd-84179812eef0"
      },
      "outputs": [
        {
          "output_type": "stream",
          "name": "stdout",
          "text": [
            "Mounted at /content/drive\n"
          ]
        }
      ],
      "source": [
        "# 구글드라이브 마운트\n",
        "from google.colab import drive\n",
        "drive.mount('/content/drive')"
      ]
    },
    {
      "cell_type": "code",
      "source": [
        "!pip install kss"
      ],
      "metadata": {
        "colab": {
          "base_uri": "https://localhost:8080/"
        },
        "id": "5jBShq48L9HG",
        "outputId": "649a4feb-0003-4cf5-958b-98c760f2d26e"
      },
      "execution_count": null,
      "outputs": [
        {
          "output_type": "stream",
          "name": "stdout",
          "text": [
            "Looking in indexes: https://pypi.org/simple, https://us-python.pkg.dev/colab-wheels/public/simple/\n",
            "Collecting kss\n",
            "  Using cached kss-3.7.0.tar.gz (42.4 MB)\n",
            "\u001b[33mWARNING: Discarding https://files.pythonhosted.org/packages/44/c1/44ca3428f780ce435650bb1f45f1164ea29aada6b6dc64bd9f34738497e4/kss-3.7.0.tar.gz#sha256=2ac2dc35b7d26ceeed2307132ae36552fd3b789b6d1d28bff5ef14751c6aec9d (from https://pypi.org/simple/kss/) (requires-python:>=3). Command errored out with exit status 1: python setup.py egg_info Check the logs for full command output.\u001b[0m\n",
            "  Using cached kss-3.6.4.tar.gz (42.4 MB)\n",
            "Collecting emoji==1.2.0\n",
            "  Using cached emoji-1.2.0-py3-none-any.whl (131 kB)\n",
            "Requirement already satisfied: regex in /usr/local/lib/python3.7/dist-packages (from kss) (2022.6.2)\n",
            "Requirement already satisfied: more_itertools in /usr/local/lib/python3.7/dist-packages (from kss) (9.0.0)\n",
            "Building wheels for collected packages: kss\n",
            "  Building wheel for kss (setup.py) ... \u001b[?25l\u001b[?25hdone\n",
            "  Created wheel for kss: filename=kss-3.6.4-py3-none-any.whl size=42448614 sha256=d8bffa0ba36edd9e5bc33945e9086e8335e4d73264f102a58a8b596baed12286\n",
            "  Stored in directory: /root/.cache/pip/wheels/32/53/7c/76bdf098c2a6c5cd4c4c29648da30ad4793d604314b2aeb26f\n",
            "Successfully built kss\n",
            "Installing collected packages: emoji, kss\n",
            "Successfully installed emoji-1.2.0 kss-3.6.4\n"
          ]
        }
      ]
    },
    {
      "cell_type": "code",
      "source": [
        "# 라이브러리 불러오기\n",
        "import numpy as np\n",
        "import pandas as pd\n",
        "import kss            # 한국어 문장 분리\n",
        "from tqdm import tqdm # 반복문 시간 예측"
      ],
      "metadata": {
        "id": "q9vVvSxfLoan"
      },
      "execution_count": null,
      "outputs": []
    },
    {
      "cell_type": "markdown",
      "source": [
        "## 데이터셋 불러오기"
      ],
      "metadata": {
        "id": "6eTceJvyfbpq"
      }
    },
    {
      "cell_type": "code",
      "source": [
        "# 데이터셋 불러오기\n",
        "train_rev= pd.read_table('/content/drive/MyDrive/[22-2] 딥러닝개론/project/data_external/rev_data.csv', sep=\",\", index_col=0)    \n",
        "train_shop = pd.read_table('/content/drive/MyDrive/[22-2] 딥러닝개론/project/data_external/shopping_rev.csv',  sep=\",\", index_col=0)\n",
        "predict = pd.read_table('/content/drive/MyDrive/[22-2] 딥러닝개론/project/data_crawling/total_all_review.csv',  sep=\",\", index_col=0)"
      ],
      "metadata": {
        "id": "53krGW3ELaV7"
      },
      "execution_count": null,
      "outputs": []
    },
    {
      "cell_type": "code",
      "source": [
        "# train_rev index가 중복 부여 되어있는 것 같아서(마지막 index가 8013인데 행 개수가 8931임) 새로 index 부여\n",
        "train_rev.reset_index(drop=False, inplace=True)"
      ],
      "metadata": {
        "id": "CwQb0IW5juum"
      },
      "execution_count": null,
      "outputs": []
    },
    {
      "cell_type": "code",
      "source": [
        "# 불러온 데이터셋 확인\n",
        "train_rev"
      ],
      "metadata": {
        "colab": {
          "base_uri": "https://localhost:8080/",
          "height": 424
        },
        "id": "7nu0m1whOdfO",
        "outputId": "315764eb-722d-4a2a-933a-6d091718411f"
      },
      "execution_count": null,
      "outputs": [
        {
          "output_type": "execute_result",
          "data": {
            "text/plain": [
              "      index                                             review  score  binary  \\\n",
              "0         0                                   친절하시고 깔끔하고 좋았습니다      5       1   \n",
              "1         1                                         조용하고 고기도 굿      5       1   \n",
              "2         2                             갈비탕과 냉면, 육회비빔밥이 맛있습니다.      4       1   \n",
              "3         3                         대체적으로 만족하나\\n와인의 구성이 살짝 아쉬움      4       1   \n",
              "4         4                              고기도 맛있고 서비스는 더 최고입니다~      5       1   \n",
              "...     ...                                                ...    ...     ...   \n",
              "8926   8009                                가짜원조... 줄서는사람 뭐지???      1       0   \n",
              "8927   8010  짝퉁 여긴 원조랑 아무 관계 직원 연관되게 없는 그냥 이름만 .. 가짜입니다 속지 마세요      1       0   \n",
              "8928   8011                                       가성비 별로 비싸기만함      1       0   \n",
              "8929   8012  별 한개주기도 아까움. 별을 줘야 등록돼서 평가함! 나 같은 사람 또 안생겼으면 좋...      1       0   \n",
              "8930   8013       자장면은 맛있는데 나머지는 동네 중국집 수준 회식으로 갔어서 가격은 잘모르겠네요      4       1   \n",
              "\n",
              "      trinary  review_split  \n",
              "0           2             0  \n",
              "1           2             0  \n",
              "2           2             0  \n",
              "3           2             0  \n",
              "4           2             0  \n",
              "...       ...           ...  \n",
              "8926        0             0  \n",
              "8927        0             0  \n",
              "8928        0             0  \n",
              "8929        0             0  \n",
              "8930        2             0  \n",
              "\n",
              "[8931 rows x 6 columns]"
            ],
            "text/html": [
              "\n",
              "  <div id=\"df-1a100519-f670-4b82-9d1b-ce37ec0758d8\">\n",
              "    <div class=\"colab-df-container\">\n",
              "      <div>\n",
              "<style scoped>\n",
              "    .dataframe tbody tr th:only-of-type {\n",
              "        vertical-align: middle;\n",
              "    }\n",
              "\n",
              "    .dataframe tbody tr th {\n",
              "        vertical-align: top;\n",
              "    }\n",
              "\n",
              "    .dataframe thead th {\n",
              "        text-align: right;\n",
              "    }\n",
              "</style>\n",
              "<table border=\"1\" class=\"dataframe\">\n",
              "  <thead>\n",
              "    <tr style=\"text-align: right;\">\n",
              "      <th></th>\n",
              "      <th>index</th>\n",
              "      <th>review</th>\n",
              "      <th>score</th>\n",
              "      <th>binary</th>\n",
              "      <th>trinary</th>\n",
              "      <th>review_split</th>\n",
              "    </tr>\n",
              "  </thead>\n",
              "  <tbody>\n",
              "    <tr>\n",
              "      <th>0</th>\n",
              "      <td>0</td>\n",
              "      <td>친절하시고 깔끔하고 좋았습니다</td>\n",
              "      <td>5</td>\n",
              "      <td>1</td>\n",
              "      <td>2</td>\n",
              "      <td>0</td>\n",
              "    </tr>\n",
              "    <tr>\n",
              "      <th>1</th>\n",
              "      <td>1</td>\n",
              "      <td>조용하고 고기도 굿</td>\n",
              "      <td>5</td>\n",
              "      <td>1</td>\n",
              "      <td>2</td>\n",
              "      <td>0</td>\n",
              "    </tr>\n",
              "    <tr>\n",
              "      <th>2</th>\n",
              "      <td>2</td>\n",
              "      <td>갈비탕과 냉면, 육회비빔밥이 맛있습니다.</td>\n",
              "      <td>4</td>\n",
              "      <td>1</td>\n",
              "      <td>2</td>\n",
              "      <td>0</td>\n",
              "    </tr>\n",
              "    <tr>\n",
              "      <th>3</th>\n",
              "      <td>3</td>\n",
              "      <td>대체적으로 만족하나\\n와인의 구성이 살짝 아쉬움</td>\n",
              "      <td>4</td>\n",
              "      <td>1</td>\n",
              "      <td>2</td>\n",
              "      <td>0</td>\n",
              "    </tr>\n",
              "    <tr>\n",
              "      <th>4</th>\n",
              "      <td>4</td>\n",
              "      <td>고기도 맛있고 서비스는 더 최고입니다~</td>\n",
              "      <td>5</td>\n",
              "      <td>1</td>\n",
              "      <td>2</td>\n",
              "      <td>0</td>\n",
              "    </tr>\n",
              "    <tr>\n",
              "      <th>...</th>\n",
              "      <td>...</td>\n",
              "      <td>...</td>\n",
              "      <td>...</td>\n",
              "      <td>...</td>\n",
              "      <td>...</td>\n",
              "      <td>...</td>\n",
              "    </tr>\n",
              "    <tr>\n",
              "      <th>8926</th>\n",
              "      <td>8009</td>\n",
              "      <td>가짜원조... 줄서는사람 뭐지???</td>\n",
              "      <td>1</td>\n",
              "      <td>0</td>\n",
              "      <td>0</td>\n",
              "      <td>0</td>\n",
              "    </tr>\n",
              "    <tr>\n",
              "      <th>8927</th>\n",
              "      <td>8010</td>\n",
              "      <td>짝퉁 여긴 원조랑 아무 관계 직원 연관되게 없는 그냥 이름만 .. 가짜입니다 속지 마세요</td>\n",
              "      <td>1</td>\n",
              "      <td>0</td>\n",
              "      <td>0</td>\n",
              "      <td>0</td>\n",
              "    </tr>\n",
              "    <tr>\n",
              "      <th>8928</th>\n",
              "      <td>8011</td>\n",
              "      <td>가성비 별로 비싸기만함</td>\n",
              "      <td>1</td>\n",
              "      <td>0</td>\n",
              "      <td>0</td>\n",
              "      <td>0</td>\n",
              "    </tr>\n",
              "    <tr>\n",
              "      <th>8929</th>\n",
              "      <td>8012</td>\n",
              "      <td>별 한개주기도 아까움. 별을 줘야 등록돼서 평가함! 나 같은 사람 또 안생겼으면 좋...</td>\n",
              "      <td>1</td>\n",
              "      <td>0</td>\n",
              "      <td>0</td>\n",
              "      <td>0</td>\n",
              "    </tr>\n",
              "    <tr>\n",
              "      <th>8930</th>\n",
              "      <td>8013</td>\n",
              "      <td>자장면은 맛있는데 나머지는 동네 중국집 수준 회식으로 갔어서 가격은 잘모르겠네요</td>\n",
              "      <td>4</td>\n",
              "      <td>1</td>\n",
              "      <td>2</td>\n",
              "      <td>0</td>\n",
              "    </tr>\n",
              "  </tbody>\n",
              "</table>\n",
              "<p>8931 rows × 6 columns</p>\n",
              "</div>\n",
              "      <button class=\"colab-df-convert\" onclick=\"convertToInteractive('df-1a100519-f670-4b82-9d1b-ce37ec0758d8')\"\n",
              "              title=\"Convert this dataframe to an interactive table.\"\n",
              "              style=\"display:none;\">\n",
              "        \n",
              "  <svg xmlns=\"http://www.w3.org/2000/svg\" height=\"24px\"viewBox=\"0 0 24 24\"\n",
              "       width=\"24px\">\n",
              "    <path d=\"M0 0h24v24H0V0z\" fill=\"none\"/>\n",
              "    <path d=\"M18.56 5.44l.94 2.06.94-2.06 2.06-.94-2.06-.94-.94-2.06-.94 2.06-2.06.94zm-11 1L8.5 8.5l.94-2.06 2.06-.94-2.06-.94L8.5 2.5l-.94 2.06-2.06.94zm10 10l.94 2.06.94-2.06 2.06-.94-2.06-.94-.94-2.06-.94 2.06-2.06.94z\"/><path d=\"M17.41 7.96l-1.37-1.37c-.4-.4-.92-.59-1.43-.59-.52 0-1.04.2-1.43.59L10.3 9.45l-7.72 7.72c-.78.78-.78 2.05 0 2.83L4 21.41c.39.39.9.59 1.41.59.51 0 1.02-.2 1.41-.59l7.78-7.78 2.81-2.81c.8-.78.8-2.07 0-2.86zM5.41 20L4 18.59l7.72-7.72 1.47 1.35L5.41 20z\"/>\n",
              "  </svg>\n",
              "      </button>\n",
              "      \n",
              "  <style>\n",
              "    .colab-df-container {\n",
              "      display:flex;\n",
              "      flex-wrap:wrap;\n",
              "      gap: 12px;\n",
              "    }\n",
              "\n",
              "    .colab-df-convert {\n",
              "      background-color: #E8F0FE;\n",
              "      border: none;\n",
              "      border-radius: 50%;\n",
              "      cursor: pointer;\n",
              "      display: none;\n",
              "      fill: #1967D2;\n",
              "      height: 32px;\n",
              "      padding: 0 0 0 0;\n",
              "      width: 32px;\n",
              "    }\n",
              "\n",
              "    .colab-df-convert:hover {\n",
              "      background-color: #E2EBFA;\n",
              "      box-shadow: 0px 1px 2px rgba(60, 64, 67, 0.3), 0px 1px 3px 1px rgba(60, 64, 67, 0.15);\n",
              "      fill: #174EA6;\n",
              "    }\n",
              "\n",
              "    [theme=dark] .colab-df-convert {\n",
              "      background-color: #3B4455;\n",
              "      fill: #D2E3FC;\n",
              "    }\n",
              "\n",
              "    [theme=dark] .colab-df-convert:hover {\n",
              "      background-color: #434B5C;\n",
              "      box-shadow: 0px 1px 3px 1px rgba(0, 0, 0, 0.15);\n",
              "      filter: drop-shadow(0px 1px 2px rgba(0, 0, 0, 0.3));\n",
              "      fill: #FFFFFF;\n",
              "    }\n",
              "  </style>\n",
              "\n",
              "      <script>\n",
              "        const buttonEl =\n",
              "          document.querySelector('#df-1a100519-f670-4b82-9d1b-ce37ec0758d8 button.colab-df-convert');\n",
              "        buttonEl.style.display =\n",
              "          google.colab.kernel.accessAllowed ? 'block' : 'none';\n",
              "\n",
              "        async function convertToInteractive(key) {\n",
              "          const element = document.querySelector('#df-1a100519-f670-4b82-9d1b-ce37ec0758d8');\n",
              "          const dataTable =\n",
              "            await google.colab.kernel.invokeFunction('convertToInteractive',\n",
              "                                                     [key], {});\n",
              "          if (!dataTable) return;\n",
              "\n",
              "          const docLinkHtml = 'Like what you see? Visit the ' +\n",
              "            '<a target=\"_blank\" href=https://colab.research.google.com/notebooks/data_table.ipynb>data table notebook</a>'\n",
              "            + ' to learn more about interactive tables.';\n",
              "          element.innerHTML = '';\n",
              "          dataTable['output_type'] = 'display_data';\n",
              "          await google.colab.output.renderOutput(dataTable, element);\n",
              "          const docLink = document.createElement('div');\n",
              "          docLink.innerHTML = docLinkHtml;\n",
              "          element.appendChild(docLink);\n",
              "        }\n",
              "      </script>\n",
              "    </div>\n",
              "  </div>\n",
              "  "
            ]
          },
          "metadata": {},
          "execution_count": 33
        }
      ]
    },
    {
      "cell_type": "code",
      "source": [
        "train_shop"
      ],
      "metadata": {
        "colab": {
          "base_uri": "https://localhost:8080/",
          "height": 424
        },
        "id": "Zlc881EeOnbb",
        "outputId": "8d1bb9c0-f8b0-4a31-c98a-30557159a868"
      },
      "execution_count": null,
      "outputs": [
        {
          "output_type": "execute_result",
          "data": {
            "text/plain": [
              "        score                                             review  binary  \\\n",
              "0           5                                            배공빠르고 굿       1   \n",
              "1           2                      택배가 엉망이네용 저희집 밑에층에 말도없이 놔두고가고       0   \n",
              "2           5  아주좋아요 바지 정말 좋아서2개 더 구매했어요 이가격에 대박입니다. 바느질이 조금 ...       1   \n",
              "3           2  선물용으로 빨리 받아서 전달했어야 하는 상품이었는데 머그컵만 와서 당황했습니다. 전...       0   \n",
              "4           5                  민트색상 예뻐요. 옆 손잡이는 거는 용도로도 사용되네요 ㅎㅎ       1   \n",
              "...       ...                                                ...     ...   \n",
              "199995      2                                    장마라그런가!!! 달지않아요       0   \n",
              "199996      5  다이슨 케이스 구매했어요 다이슨 슈퍼소닉 드라이기 케이스 구매했어요가격 괜찮고 배송...       1   \n",
              "199997      5                    로드샾에서 사는것보다 세배 저렴하네요 ㅜㅜ 자주이용할께요       1   \n",
              "199998      5                                      넘이쁘고 쎄련되보이네요~       1   \n",
              "199999      5   아직 사용해보지도않았고 다른 제품을 써본적이없어서 잘 모르겠지만 ㅎㅎ 배송은 빨랐습니다       1   \n",
              "\n",
              "        trinary  review_split  \n",
              "0             2             0  \n",
              "1             0             0  \n",
              "2             2             0  \n",
              "3             0             0  \n",
              "4             2             0  \n",
              "...         ...           ...  \n",
              "199995        0             0  \n",
              "199996        2             0  \n",
              "199997        2             0  \n",
              "199998        2             0  \n",
              "199999        2             0  \n",
              "\n",
              "[200000 rows x 5 columns]"
            ],
            "text/html": [
              "\n",
              "  <div id=\"df-2220a798-223c-4af2-8388-eff310f46c00\">\n",
              "    <div class=\"colab-df-container\">\n",
              "      <div>\n",
              "<style scoped>\n",
              "    .dataframe tbody tr th:only-of-type {\n",
              "        vertical-align: middle;\n",
              "    }\n",
              "\n",
              "    .dataframe tbody tr th {\n",
              "        vertical-align: top;\n",
              "    }\n",
              "\n",
              "    .dataframe thead th {\n",
              "        text-align: right;\n",
              "    }\n",
              "</style>\n",
              "<table border=\"1\" class=\"dataframe\">\n",
              "  <thead>\n",
              "    <tr style=\"text-align: right;\">\n",
              "      <th></th>\n",
              "      <th>score</th>\n",
              "      <th>review</th>\n",
              "      <th>binary</th>\n",
              "      <th>trinary</th>\n",
              "      <th>review_split</th>\n",
              "    </tr>\n",
              "  </thead>\n",
              "  <tbody>\n",
              "    <tr>\n",
              "      <th>0</th>\n",
              "      <td>5</td>\n",
              "      <td>배공빠르고 굿</td>\n",
              "      <td>1</td>\n",
              "      <td>2</td>\n",
              "      <td>0</td>\n",
              "    </tr>\n",
              "    <tr>\n",
              "      <th>1</th>\n",
              "      <td>2</td>\n",
              "      <td>택배가 엉망이네용 저희집 밑에층에 말도없이 놔두고가고</td>\n",
              "      <td>0</td>\n",
              "      <td>0</td>\n",
              "      <td>0</td>\n",
              "    </tr>\n",
              "    <tr>\n",
              "      <th>2</th>\n",
              "      <td>5</td>\n",
              "      <td>아주좋아요 바지 정말 좋아서2개 더 구매했어요 이가격에 대박입니다. 바느질이 조금 ...</td>\n",
              "      <td>1</td>\n",
              "      <td>2</td>\n",
              "      <td>0</td>\n",
              "    </tr>\n",
              "    <tr>\n",
              "      <th>3</th>\n",
              "      <td>2</td>\n",
              "      <td>선물용으로 빨리 받아서 전달했어야 하는 상품이었는데 머그컵만 와서 당황했습니다. 전...</td>\n",
              "      <td>0</td>\n",
              "      <td>0</td>\n",
              "      <td>0</td>\n",
              "    </tr>\n",
              "    <tr>\n",
              "      <th>4</th>\n",
              "      <td>5</td>\n",
              "      <td>민트색상 예뻐요. 옆 손잡이는 거는 용도로도 사용되네요 ㅎㅎ</td>\n",
              "      <td>1</td>\n",
              "      <td>2</td>\n",
              "      <td>0</td>\n",
              "    </tr>\n",
              "    <tr>\n",
              "      <th>...</th>\n",
              "      <td>...</td>\n",
              "      <td>...</td>\n",
              "      <td>...</td>\n",
              "      <td>...</td>\n",
              "      <td>...</td>\n",
              "    </tr>\n",
              "    <tr>\n",
              "      <th>199995</th>\n",
              "      <td>2</td>\n",
              "      <td>장마라그런가!!! 달지않아요</td>\n",
              "      <td>0</td>\n",
              "      <td>0</td>\n",
              "      <td>0</td>\n",
              "    </tr>\n",
              "    <tr>\n",
              "      <th>199996</th>\n",
              "      <td>5</td>\n",
              "      <td>다이슨 케이스 구매했어요 다이슨 슈퍼소닉 드라이기 케이스 구매했어요가격 괜찮고 배송...</td>\n",
              "      <td>1</td>\n",
              "      <td>2</td>\n",
              "      <td>0</td>\n",
              "    </tr>\n",
              "    <tr>\n",
              "      <th>199997</th>\n",
              "      <td>5</td>\n",
              "      <td>로드샾에서 사는것보다 세배 저렴하네요 ㅜㅜ 자주이용할께요</td>\n",
              "      <td>1</td>\n",
              "      <td>2</td>\n",
              "      <td>0</td>\n",
              "    </tr>\n",
              "    <tr>\n",
              "      <th>199998</th>\n",
              "      <td>5</td>\n",
              "      <td>넘이쁘고 쎄련되보이네요~</td>\n",
              "      <td>1</td>\n",
              "      <td>2</td>\n",
              "      <td>0</td>\n",
              "    </tr>\n",
              "    <tr>\n",
              "      <th>199999</th>\n",
              "      <td>5</td>\n",
              "      <td>아직 사용해보지도않았고 다른 제품을 써본적이없어서 잘 모르겠지만 ㅎㅎ 배송은 빨랐습니다</td>\n",
              "      <td>1</td>\n",
              "      <td>2</td>\n",
              "      <td>0</td>\n",
              "    </tr>\n",
              "  </tbody>\n",
              "</table>\n",
              "<p>200000 rows × 5 columns</p>\n",
              "</div>\n",
              "      <button class=\"colab-df-convert\" onclick=\"convertToInteractive('df-2220a798-223c-4af2-8388-eff310f46c00')\"\n",
              "              title=\"Convert this dataframe to an interactive table.\"\n",
              "              style=\"display:none;\">\n",
              "        \n",
              "  <svg xmlns=\"http://www.w3.org/2000/svg\" height=\"24px\"viewBox=\"0 0 24 24\"\n",
              "       width=\"24px\">\n",
              "    <path d=\"M0 0h24v24H0V0z\" fill=\"none\"/>\n",
              "    <path d=\"M18.56 5.44l.94 2.06.94-2.06 2.06-.94-2.06-.94-.94-2.06-.94 2.06-2.06.94zm-11 1L8.5 8.5l.94-2.06 2.06-.94-2.06-.94L8.5 2.5l-.94 2.06-2.06.94zm10 10l.94 2.06.94-2.06 2.06-.94-2.06-.94-.94-2.06-.94 2.06-2.06.94z\"/><path d=\"M17.41 7.96l-1.37-1.37c-.4-.4-.92-.59-1.43-.59-.52 0-1.04.2-1.43.59L10.3 9.45l-7.72 7.72c-.78.78-.78 2.05 0 2.83L4 21.41c.39.39.9.59 1.41.59.51 0 1.02-.2 1.41-.59l7.78-7.78 2.81-2.81c.8-.78.8-2.07 0-2.86zM5.41 20L4 18.59l7.72-7.72 1.47 1.35L5.41 20z\"/>\n",
              "  </svg>\n",
              "      </button>\n",
              "      \n",
              "  <style>\n",
              "    .colab-df-container {\n",
              "      display:flex;\n",
              "      flex-wrap:wrap;\n",
              "      gap: 12px;\n",
              "    }\n",
              "\n",
              "    .colab-df-convert {\n",
              "      background-color: #E8F0FE;\n",
              "      border: none;\n",
              "      border-radius: 50%;\n",
              "      cursor: pointer;\n",
              "      display: none;\n",
              "      fill: #1967D2;\n",
              "      height: 32px;\n",
              "      padding: 0 0 0 0;\n",
              "      width: 32px;\n",
              "    }\n",
              "\n",
              "    .colab-df-convert:hover {\n",
              "      background-color: #E2EBFA;\n",
              "      box-shadow: 0px 1px 2px rgba(60, 64, 67, 0.3), 0px 1px 3px 1px rgba(60, 64, 67, 0.15);\n",
              "      fill: #174EA6;\n",
              "    }\n",
              "\n",
              "    [theme=dark] .colab-df-convert {\n",
              "      background-color: #3B4455;\n",
              "      fill: #D2E3FC;\n",
              "    }\n",
              "\n",
              "    [theme=dark] .colab-df-convert:hover {\n",
              "      background-color: #434B5C;\n",
              "      box-shadow: 0px 1px 3px 1px rgba(0, 0, 0, 0.15);\n",
              "      filter: drop-shadow(0px 1px 2px rgba(0, 0, 0, 0.3));\n",
              "      fill: #FFFFFF;\n",
              "    }\n",
              "  </style>\n",
              "\n",
              "      <script>\n",
              "        const buttonEl =\n",
              "          document.querySelector('#df-2220a798-223c-4af2-8388-eff310f46c00 button.colab-df-convert');\n",
              "        buttonEl.style.display =\n",
              "          google.colab.kernel.accessAllowed ? 'block' : 'none';\n",
              "\n",
              "        async function convertToInteractive(key) {\n",
              "          const element = document.querySelector('#df-2220a798-223c-4af2-8388-eff310f46c00');\n",
              "          const dataTable =\n",
              "            await google.colab.kernel.invokeFunction('convertToInteractive',\n",
              "                                                     [key], {});\n",
              "          if (!dataTable) return;\n",
              "\n",
              "          const docLinkHtml = 'Like what you see? Visit the ' +\n",
              "            '<a target=\"_blank\" href=https://colab.research.google.com/notebooks/data_table.ipynb>data table notebook</a>'\n",
              "            + ' to learn more about interactive tables.';\n",
              "          element.innerHTML = '';\n",
              "          dataTable['output_type'] = 'display_data';\n",
              "          await google.colab.output.renderOutput(dataTable, element);\n",
              "          const docLink = document.createElement('div');\n",
              "          docLink.innerHTML = docLinkHtml;\n",
              "          element.appendChild(docLink);\n",
              "        }\n",
              "      </script>\n",
              "    </div>\n",
              "  </div>\n",
              "  "
            ]
          },
          "metadata": {},
          "execution_count": 34
        }
      ]
    },
    {
      "cell_type": "code",
      "source": [
        "predict"
      ],
      "metadata": {
        "colab": {
          "base_uri": "https://localhost:8080/",
          "height": 424
        },
        "id": "vdeiXGp_OqZQ",
        "outputId": "80ff9875-ab73-4b3d-f42a-ace95a2c1643"
      },
      "execution_count": null,
      "outputs": [
        {
          "output_type": "execute_result",
          "data": {
            "text/plain": [
              "        식당 인덱스                                                 리뷰  \\\n",
              "0            0  저렴한 전집이지만 바로 부쳐주시니 맛은 보장됩니다. 조금씩 시켜먹기 좋게 메뉴판 구...   \n",
              "1            0                                                 굿ㅇ   \n",
              "2            0                                               친절해요   \n",
              "3            0                                               친절해요   \n",
              "4            0                                                  굿   \n",
              "...        ...                                                ...   \n",
              "112548    1047  생활의 달인 방송후 다음날 갔는데.. 겨우 구입했어요!!\\n진짜 쫀득쫀득하니 맛있네요^^   \n",
              "112549    1047                                           떡이 맛있어요~   \n",
              "112550    1047  사장님도 너무친절하시고 떡도 너무 맛있어요 ㅎㅎ 아침용으로 하나씩 챙겨먹을때도있고 ...   \n",
              "112551    1047              떡이 종류가 별루없네요.직접만드는거같아요\\n가래떡샀는데 따뜻하네요~   \n",
              "112552    1047                                          일욜도영업해좋아요   \n",
              "\n",
              "        review_split  \n",
              "0                  0  \n",
              "1                  0  \n",
              "2                  0  \n",
              "3                  0  \n",
              "4                  0  \n",
              "...              ...  \n",
              "112548             0  \n",
              "112549             0  \n",
              "112550             0  \n",
              "112551             0  \n",
              "112552             0  \n",
              "\n",
              "[112553 rows x 3 columns]"
            ],
            "text/html": [
              "\n",
              "  <div id=\"df-9a60edc2-82ce-4ddf-a317-6b1a29fe9e72\">\n",
              "    <div class=\"colab-df-container\">\n",
              "      <div>\n",
              "<style scoped>\n",
              "    .dataframe tbody tr th:only-of-type {\n",
              "        vertical-align: middle;\n",
              "    }\n",
              "\n",
              "    .dataframe tbody tr th {\n",
              "        vertical-align: top;\n",
              "    }\n",
              "\n",
              "    .dataframe thead th {\n",
              "        text-align: right;\n",
              "    }\n",
              "</style>\n",
              "<table border=\"1\" class=\"dataframe\">\n",
              "  <thead>\n",
              "    <tr style=\"text-align: right;\">\n",
              "      <th></th>\n",
              "      <th>식당 인덱스</th>\n",
              "      <th>리뷰</th>\n",
              "      <th>review_split</th>\n",
              "    </tr>\n",
              "  </thead>\n",
              "  <tbody>\n",
              "    <tr>\n",
              "      <th>0</th>\n",
              "      <td>0</td>\n",
              "      <td>저렴한 전집이지만 바로 부쳐주시니 맛은 보장됩니다. 조금씩 시켜먹기 좋게 메뉴판 구...</td>\n",
              "      <td>0</td>\n",
              "    </tr>\n",
              "    <tr>\n",
              "      <th>1</th>\n",
              "      <td>0</td>\n",
              "      <td>굿ㅇ</td>\n",
              "      <td>0</td>\n",
              "    </tr>\n",
              "    <tr>\n",
              "      <th>2</th>\n",
              "      <td>0</td>\n",
              "      <td>친절해요</td>\n",
              "      <td>0</td>\n",
              "    </tr>\n",
              "    <tr>\n",
              "      <th>3</th>\n",
              "      <td>0</td>\n",
              "      <td>친절해요</td>\n",
              "      <td>0</td>\n",
              "    </tr>\n",
              "    <tr>\n",
              "      <th>4</th>\n",
              "      <td>0</td>\n",
              "      <td>굿</td>\n",
              "      <td>0</td>\n",
              "    </tr>\n",
              "    <tr>\n",
              "      <th>...</th>\n",
              "      <td>...</td>\n",
              "      <td>...</td>\n",
              "      <td>...</td>\n",
              "    </tr>\n",
              "    <tr>\n",
              "      <th>112548</th>\n",
              "      <td>1047</td>\n",
              "      <td>생활의 달인 방송후 다음날 갔는데.. 겨우 구입했어요!!\\n진짜 쫀득쫀득하니 맛있네요^^</td>\n",
              "      <td>0</td>\n",
              "    </tr>\n",
              "    <tr>\n",
              "      <th>112549</th>\n",
              "      <td>1047</td>\n",
              "      <td>떡이 맛있어요~</td>\n",
              "      <td>0</td>\n",
              "    </tr>\n",
              "    <tr>\n",
              "      <th>112550</th>\n",
              "      <td>1047</td>\n",
              "      <td>사장님도 너무친절하시고 떡도 너무 맛있어요 ㅎㅎ 아침용으로 하나씩 챙겨먹을때도있고 ...</td>\n",
              "      <td>0</td>\n",
              "    </tr>\n",
              "    <tr>\n",
              "      <th>112551</th>\n",
              "      <td>1047</td>\n",
              "      <td>떡이 종류가 별루없네요.직접만드는거같아요\\n가래떡샀는데 따뜻하네요~</td>\n",
              "      <td>0</td>\n",
              "    </tr>\n",
              "    <tr>\n",
              "      <th>112552</th>\n",
              "      <td>1047</td>\n",
              "      <td>일욜도영업해좋아요</td>\n",
              "      <td>0</td>\n",
              "    </tr>\n",
              "  </tbody>\n",
              "</table>\n",
              "<p>112553 rows × 3 columns</p>\n",
              "</div>\n",
              "      <button class=\"colab-df-convert\" onclick=\"convertToInteractive('df-9a60edc2-82ce-4ddf-a317-6b1a29fe9e72')\"\n",
              "              title=\"Convert this dataframe to an interactive table.\"\n",
              "              style=\"display:none;\">\n",
              "        \n",
              "  <svg xmlns=\"http://www.w3.org/2000/svg\" height=\"24px\"viewBox=\"0 0 24 24\"\n",
              "       width=\"24px\">\n",
              "    <path d=\"M0 0h24v24H0V0z\" fill=\"none\"/>\n",
              "    <path d=\"M18.56 5.44l.94 2.06.94-2.06 2.06-.94-2.06-.94-.94-2.06-.94 2.06-2.06.94zm-11 1L8.5 8.5l.94-2.06 2.06-.94-2.06-.94L8.5 2.5l-.94 2.06-2.06.94zm10 10l.94 2.06.94-2.06 2.06-.94-2.06-.94-.94-2.06-.94 2.06-2.06.94z\"/><path d=\"M17.41 7.96l-1.37-1.37c-.4-.4-.92-.59-1.43-.59-.52 0-1.04.2-1.43.59L10.3 9.45l-7.72 7.72c-.78.78-.78 2.05 0 2.83L4 21.41c.39.39.9.59 1.41.59.51 0 1.02-.2 1.41-.59l7.78-7.78 2.81-2.81c.8-.78.8-2.07 0-2.86zM5.41 20L4 18.59l7.72-7.72 1.47 1.35L5.41 20z\"/>\n",
              "  </svg>\n",
              "      </button>\n",
              "      \n",
              "  <style>\n",
              "    .colab-df-container {\n",
              "      display:flex;\n",
              "      flex-wrap:wrap;\n",
              "      gap: 12px;\n",
              "    }\n",
              "\n",
              "    .colab-df-convert {\n",
              "      background-color: #E8F0FE;\n",
              "      border: none;\n",
              "      border-radius: 50%;\n",
              "      cursor: pointer;\n",
              "      display: none;\n",
              "      fill: #1967D2;\n",
              "      height: 32px;\n",
              "      padding: 0 0 0 0;\n",
              "      width: 32px;\n",
              "    }\n",
              "\n",
              "    .colab-df-convert:hover {\n",
              "      background-color: #E2EBFA;\n",
              "      box-shadow: 0px 1px 2px rgba(60, 64, 67, 0.3), 0px 1px 3px 1px rgba(60, 64, 67, 0.15);\n",
              "      fill: #174EA6;\n",
              "    }\n",
              "\n",
              "    [theme=dark] .colab-df-convert {\n",
              "      background-color: #3B4455;\n",
              "      fill: #D2E3FC;\n",
              "    }\n",
              "\n",
              "    [theme=dark] .colab-df-convert:hover {\n",
              "      background-color: #434B5C;\n",
              "      box-shadow: 0px 1px 3px 1px rgba(0, 0, 0, 0.15);\n",
              "      filter: drop-shadow(0px 1px 2px rgba(0, 0, 0, 0.3));\n",
              "      fill: #FFFFFF;\n",
              "    }\n",
              "  </style>\n",
              "\n",
              "      <script>\n",
              "        const buttonEl =\n",
              "          document.querySelector('#df-9a60edc2-82ce-4ddf-a317-6b1a29fe9e72 button.colab-df-convert');\n",
              "        buttonEl.style.display =\n",
              "          google.colab.kernel.accessAllowed ? 'block' : 'none';\n",
              "\n",
              "        async function convertToInteractive(key) {\n",
              "          const element = document.querySelector('#df-9a60edc2-82ce-4ddf-a317-6b1a29fe9e72');\n",
              "          const dataTable =\n",
              "            await google.colab.kernel.invokeFunction('convertToInteractive',\n",
              "                                                     [key], {});\n",
              "          if (!dataTable) return;\n",
              "\n",
              "          const docLinkHtml = 'Like what you see? Visit the ' +\n",
              "            '<a target=\"_blank\" href=https://colab.research.google.com/notebooks/data_table.ipynb>data table notebook</a>'\n",
              "            + ' to learn more about interactive tables.';\n",
              "          element.innerHTML = '';\n",
              "          dataTable['output_type'] = 'display_data';\n",
              "          await google.colab.output.renderOutput(dataTable, element);\n",
              "          const docLink = document.createElement('div');\n",
              "          docLink.innerHTML = docLinkHtml;\n",
              "          element.appendChild(docLink);\n",
              "        }\n",
              "      </script>\n",
              "    </div>\n",
              "  </div>\n",
              "  "
            ]
          },
          "metadata": {},
          "execution_count": 35
        }
      ]
    },
    {
      "cell_type": "markdown",
      "source": [
        "## 데이터셋 전처리\n",
        "- kss가 '\\n' 뒤 문장을 다 지워버리는 문제가 있어 기존 review에서 \\n 모두 삭제\n"
      ],
      "metadata": {
        "id": "IcTvWmgtnVYe"
      }
    },
    {
      "cell_type": "code",
      "source": [
        "# 예시\n",
        "s = \"회사 동료 분들과 다녀왔는데 분위기도 좋고 음식도 맛있었어요 \\n 다만, 강남 토끼정이 강남 쉑쉑버거 골목길로 쭉 올라가야 하는데 다들 쉑쉑버거의 유혹에 넘어갈 뻔 했답니다\\n강남역 맛집 토끼정의 외부 모습.\"\n",
        "new_s = s.replace('\\n', '')\n",
        "print(\"기존: \" + s)\n",
        "print(\"수정 후: \" + new_s)"
      ],
      "metadata": {
        "colab": {
          "base_uri": "https://localhost:8080/"
        },
        "id": "0Ty_nn-9ncmc",
        "outputId": "d72be154-ada4-44ab-96a8-51c9e1432606"
      },
      "execution_count": null,
      "outputs": [
        {
          "output_type": "stream",
          "name": "stdout",
          "text": [
            "기존: 회사 동료 분들과 다녀왔는데 분위기도 좋고 음식도 맛있었어요 \n",
            " 다만, 강남 토끼정이 강남 쉑쉑버거 골목길로 쭉 올라가야 하는데 다들 쉑쉑버거의 유혹에 넘어갈 뻔 했답니다\n",
            "강남역 맛집 토끼정의 외부 모습.\n",
            "수정 후: 회사 동료 분들과 다녀왔는데 분위기도 좋고 음식도 맛있었어요  다만, 강남 토끼정이 강남 쉑쉑버거 골목길로 쭉 올라가야 하는데 다들 쉑쉑버거의 유혹에 넘어갈 뻔 했답니다강남역 맛집 토끼정의 외부 모습.\n"
          ]
        }
      ]
    },
    {
      "cell_type": "code",
      "source": [
        "# train_rev\n",
        "for i in tqdm(range(train_rev.shape[0])):\n",
        "    train_rev.loc[i, \"review\"] = train_rev.loc[i, \"review\"].replace('\\n', ' ')"
      ],
      "metadata": {
        "colab": {
          "base_uri": "https://localhost:8080/"
        },
        "id": "LI3xu66ioDbE",
        "outputId": "c394dda1-f328-48ca-9e6b-14816f28dd64"
      },
      "execution_count": null,
      "outputs": [
        {
          "output_type": "stream",
          "name": "stderr",
          "text": [
            "100%|██████████| 8931/8931 [00:05<00:00, 1661.19it/s]\n"
          ]
        }
      ]
    },
    {
      "cell_type": "code",
      "source": [
        "# train_shop\n",
        "for i in tqdm(range(train_shop.shape[0])):\n",
        "    train_shop.loc[i, \"review\"] = train_shop.loc[i, \"review\"].replace('\\n', ' ')"
      ],
      "metadata": {
        "colab": {
          "base_uri": "https://localhost:8080/"
        },
        "id": "eJ1VZk1wo03Z",
        "outputId": "9152c906-6c79-4caa-b0ed-43ebbe9fd121"
      },
      "execution_count": null,
      "outputs": [
        {
          "output_type": "stream",
          "name": "stderr",
          "text": [
            "100%|██████████| 200000/200000 [52:47<00:00, 63.14it/s]\n"
          ]
        }
      ]
    },
    {
      "cell_type": "code",
      "source": [
        "# predict\n",
        "for i in tqdm(range(predict.shape[0])):\n",
        "    try:\n",
        "        predict.loc[i, \"리뷰\"] = predict.loc[i, \"리뷰\"].replace('\\n', ' ')\n",
        "    except:\n",
        "        pass"
      ],
      "metadata": {
        "colab": {
          "base_uri": "https://localhost:8080/"
        },
        "id": "7-yf8PwPo7zZ",
        "outputId": "d9d45627-96b8-470c-a987-378cd4b88c2e"
      },
      "execution_count": null,
      "outputs": [
        {
          "output_type": "stream",
          "name": "stderr",
          "text": [
            "100%|██████████| 112553/112553 [08:47<00:00, 213.23it/s]\n"
          ]
        }
      ]
    },
    {
      "cell_type": "code",
      "source": [
        "# 일단 저장하겠습니다\n",
        "train_rev.to_csv('/content/drive/MyDrive/[22-2] 딥러닝개론/project/data_external/train_rev.csv')\n",
        "train_shop.to_csv('/content/drive/MyDrive/[22-2] 딥러닝개론/project/data_external/train_shop.csv')\n",
        "predict.to_csv('/content/drive/MyDrive/[22-2] 딥러닝개론/project/data_crawling/predict.csv')"
      ],
      "metadata": {
        "id": "8asW72bEuWZT"
      },
      "execution_count": null,
      "outputs": []
    },
    {
      "cell_type": "markdown",
      "source": [
        "## 문장 단위로 분리\n",
        "- 하나의 리뷰를 문장 단위로 쪼개서 리뷰 str을 문장 list로 만들기 -> review_split 열에 넣기\n"
      ],
      "metadata": {
        "id": "6cDymdg6fdM4"
      }
    },
    {
      "cell_type": "code",
      "source": [
        "# 위에서 저장한 데이터프레임 다시 불러오기\n",
        "train_rev = pd.read_table('/content/drive/MyDrive/[22-2] 딥러닝개론/project/data_external/train_rev.csv', sep=\",\", index_col=0)    \n",
        "train_shop = pd.read_table('/content/drive/MyDrive/[22-2] 딥러닝개론/project/data_external/train_shop.csv',  sep=\",\", index_col=0)\n",
        "predict = pd.read_table('/content/drive/MyDrive/[22-2] 딥러닝개론/project/data_crawling/predict.csv',  sep=\",\", index_col=0)"
      ],
      "metadata": {
        "id": "V3Nk1Cd3qPpA"
      },
      "execution_count": null,
      "outputs": []
    },
    {
      "cell_type": "code",
      "source": [
        "# 확인\n",
        "train_shop"
      ],
      "metadata": {
        "colab": {
          "base_uri": "https://localhost:8080/",
          "height": 424
        },
        "id": "JBz0WUre2kXs",
        "outputId": "4004a430-2a30-43e9-f21f-bd5030b68a2f"
      },
      "execution_count": null,
      "outputs": [
        {
          "output_type": "execute_result",
          "data": {
            "text/plain": [
              "        score                                             review  binary  \\\n",
              "0           5                                            배공빠르고 굿       1   \n",
              "1           2                      택배가 엉망이네용 저희집 밑에층에 말도없이 놔두고가고       0   \n",
              "2           5  아주좋아요 바지 정말 좋아서2개 더 구매했어요 이가격에 대박입니다. 바느질이 조금 ...       1   \n",
              "3           2  선물용으로 빨리 받아서 전달했어야 하는 상품이었는데 머그컵만 와서 당황했습니다. 전...       0   \n",
              "4           5                  민트색상 예뻐요. 옆 손잡이는 거는 용도로도 사용되네요 ㅎㅎ       1   \n",
              "...       ...                                                ...     ...   \n",
              "199995      2                                    장마라그런가!!! 달지않아요       0   \n",
              "199996      5  다이슨 케이스 구매했어요 다이슨 슈퍼소닉 드라이기 케이스 구매했어요가격 괜찮고 배송...       1   \n",
              "199997      5                    로드샾에서 사는것보다 세배 저렴하네요 ㅜㅜ 자주이용할께요       1   \n",
              "199998      5                                      넘이쁘고 쎄련되보이네요~       1   \n",
              "199999      5   아직 사용해보지도않았고 다른 제품을 써본적이없어서 잘 모르겠지만 ㅎㅎ 배송은 빨랐습니다       1   \n",
              "\n",
              "        trinary  review_split  \n",
              "0             2             0  \n",
              "1             0             0  \n",
              "2             2             0  \n",
              "3             0             0  \n",
              "4             2             0  \n",
              "...         ...           ...  \n",
              "199995        0             0  \n",
              "199996        2             0  \n",
              "199997        2             0  \n",
              "199998        2             0  \n",
              "199999        2             0  \n",
              "\n",
              "[200000 rows x 5 columns]"
            ],
            "text/html": [
              "\n",
              "  <div id=\"df-61622059-35c5-4d45-b3eb-97d9790f3900\">\n",
              "    <div class=\"colab-df-container\">\n",
              "      <div>\n",
              "<style scoped>\n",
              "    .dataframe tbody tr th:only-of-type {\n",
              "        vertical-align: middle;\n",
              "    }\n",
              "\n",
              "    .dataframe tbody tr th {\n",
              "        vertical-align: top;\n",
              "    }\n",
              "\n",
              "    .dataframe thead th {\n",
              "        text-align: right;\n",
              "    }\n",
              "</style>\n",
              "<table border=\"1\" class=\"dataframe\">\n",
              "  <thead>\n",
              "    <tr style=\"text-align: right;\">\n",
              "      <th></th>\n",
              "      <th>score</th>\n",
              "      <th>review</th>\n",
              "      <th>binary</th>\n",
              "      <th>trinary</th>\n",
              "      <th>review_split</th>\n",
              "    </tr>\n",
              "  </thead>\n",
              "  <tbody>\n",
              "    <tr>\n",
              "      <th>0</th>\n",
              "      <td>5</td>\n",
              "      <td>배공빠르고 굿</td>\n",
              "      <td>1</td>\n",
              "      <td>2</td>\n",
              "      <td>0</td>\n",
              "    </tr>\n",
              "    <tr>\n",
              "      <th>1</th>\n",
              "      <td>2</td>\n",
              "      <td>택배가 엉망이네용 저희집 밑에층에 말도없이 놔두고가고</td>\n",
              "      <td>0</td>\n",
              "      <td>0</td>\n",
              "      <td>0</td>\n",
              "    </tr>\n",
              "    <tr>\n",
              "      <th>2</th>\n",
              "      <td>5</td>\n",
              "      <td>아주좋아요 바지 정말 좋아서2개 더 구매했어요 이가격에 대박입니다. 바느질이 조금 ...</td>\n",
              "      <td>1</td>\n",
              "      <td>2</td>\n",
              "      <td>0</td>\n",
              "    </tr>\n",
              "    <tr>\n",
              "      <th>3</th>\n",
              "      <td>2</td>\n",
              "      <td>선물용으로 빨리 받아서 전달했어야 하는 상품이었는데 머그컵만 와서 당황했습니다. 전...</td>\n",
              "      <td>0</td>\n",
              "      <td>0</td>\n",
              "      <td>0</td>\n",
              "    </tr>\n",
              "    <tr>\n",
              "      <th>4</th>\n",
              "      <td>5</td>\n",
              "      <td>민트색상 예뻐요. 옆 손잡이는 거는 용도로도 사용되네요 ㅎㅎ</td>\n",
              "      <td>1</td>\n",
              "      <td>2</td>\n",
              "      <td>0</td>\n",
              "    </tr>\n",
              "    <tr>\n",
              "      <th>...</th>\n",
              "      <td>...</td>\n",
              "      <td>...</td>\n",
              "      <td>...</td>\n",
              "      <td>...</td>\n",
              "      <td>...</td>\n",
              "    </tr>\n",
              "    <tr>\n",
              "      <th>199995</th>\n",
              "      <td>2</td>\n",
              "      <td>장마라그런가!!! 달지않아요</td>\n",
              "      <td>0</td>\n",
              "      <td>0</td>\n",
              "      <td>0</td>\n",
              "    </tr>\n",
              "    <tr>\n",
              "      <th>199996</th>\n",
              "      <td>5</td>\n",
              "      <td>다이슨 케이스 구매했어요 다이슨 슈퍼소닉 드라이기 케이스 구매했어요가격 괜찮고 배송...</td>\n",
              "      <td>1</td>\n",
              "      <td>2</td>\n",
              "      <td>0</td>\n",
              "    </tr>\n",
              "    <tr>\n",
              "      <th>199997</th>\n",
              "      <td>5</td>\n",
              "      <td>로드샾에서 사는것보다 세배 저렴하네요 ㅜㅜ 자주이용할께요</td>\n",
              "      <td>1</td>\n",
              "      <td>2</td>\n",
              "      <td>0</td>\n",
              "    </tr>\n",
              "    <tr>\n",
              "      <th>199998</th>\n",
              "      <td>5</td>\n",
              "      <td>넘이쁘고 쎄련되보이네요~</td>\n",
              "      <td>1</td>\n",
              "      <td>2</td>\n",
              "      <td>0</td>\n",
              "    </tr>\n",
              "    <tr>\n",
              "      <th>199999</th>\n",
              "      <td>5</td>\n",
              "      <td>아직 사용해보지도않았고 다른 제품을 써본적이없어서 잘 모르겠지만 ㅎㅎ 배송은 빨랐습니다</td>\n",
              "      <td>1</td>\n",
              "      <td>2</td>\n",
              "      <td>0</td>\n",
              "    </tr>\n",
              "  </tbody>\n",
              "</table>\n",
              "<p>200000 rows × 5 columns</p>\n",
              "</div>\n",
              "      <button class=\"colab-df-convert\" onclick=\"convertToInteractive('df-61622059-35c5-4d45-b3eb-97d9790f3900')\"\n",
              "              title=\"Convert this dataframe to an interactive table.\"\n",
              "              style=\"display:none;\">\n",
              "        \n",
              "  <svg xmlns=\"http://www.w3.org/2000/svg\" height=\"24px\"viewBox=\"0 0 24 24\"\n",
              "       width=\"24px\">\n",
              "    <path d=\"M0 0h24v24H0V0z\" fill=\"none\"/>\n",
              "    <path d=\"M18.56 5.44l.94 2.06.94-2.06 2.06-.94-2.06-.94-.94-2.06-.94 2.06-2.06.94zm-11 1L8.5 8.5l.94-2.06 2.06-.94-2.06-.94L8.5 2.5l-.94 2.06-2.06.94zm10 10l.94 2.06.94-2.06 2.06-.94-2.06-.94-.94-2.06-.94 2.06-2.06.94z\"/><path d=\"M17.41 7.96l-1.37-1.37c-.4-.4-.92-.59-1.43-.59-.52 0-1.04.2-1.43.59L10.3 9.45l-7.72 7.72c-.78.78-.78 2.05 0 2.83L4 21.41c.39.39.9.59 1.41.59.51 0 1.02-.2 1.41-.59l7.78-7.78 2.81-2.81c.8-.78.8-2.07 0-2.86zM5.41 20L4 18.59l7.72-7.72 1.47 1.35L5.41 20z\"/>\n",
              "  </svg>\n",
              "      </button>\n",
              "      \n",
              "  <style>\n",
              "    .colab-df-container {\n",
              "      display:flex;\n",
              "      flex-wrap:wrap;\n",
              "      gap: 12px;\n",
              "    }\n",
              "\n",
              "    .colab-df-convert {\n",
              "      background-color: #E8F0FE;\n",
              "      border: none;\n",
              "      border-radius: 50%;\n",
              "      cursor: pointer;\n",
              "      display: none;\n",
              "      fill: #1967D2;\n",
              "      height: 32px;\n",
              "      padding: 0 0 0 0;\n",
              "      width: 32px;\n",
              "    }\n",
              "\n",
              "    .colab-df-convert:hover {\n",
              "      background-color: #E2EBFA;\n",
              "      box-shadow: 0px 1px 2px rgba(60, 64, 67, 0.3), 0px 1px 3px 1px rgba(60, 64, 67, 0.15);\n",
              "      fill: #174EA6;\n",
              "    }\n",
              "\n",
              "    [theme=dark] .colab-df-convert {\n",
              "      background-color: #3B4455;\n",
              "      fill: #D2E3FC;\n",
              "    }\n",
              "\n",
              "    [theme=dark] .colab-df-convert:hover {\n",
              "      background-color: #434B5C;\n",
              "      box-shadow: 0px 1px 3px 1px rgba(0, 0, 0, 0.15);\n",
              "      filter: drop-shadow(0px 1px 2px rgba(0, 0, 0, 0.3));\n",
              "      fill: #FFFFFF;\n",
              "    }\n",
              "  </style>\n",
              "\n",
              "      <script>\n",
              "        const buttonEl =\n",
              "          document.querySelector('#df-61622059-35c5-4d45-b3eb-97d9790f3900 button.colab-df-convert');\n",
              "        buttonEl.style.display =\n",
              "          google.colab.kernel.accessAllowed ? 'block' : 'none';\n",
              "\n",
              "        async function convertToInteractive(key) {\n",
              "          const element = document.querySelector('#df-61622059-35c5-4d45-b3eb-97d9790f3900');\n",
              "          const dataTable =\n",
              "            await google.colab.kernel.invokeFunction('convertToInteractive',\n",
              "                                                     [key], {});\n",
              "          if (!dataTable) return;\n",
              "\n",
              "          const docLinkHtml = 'Like what you see? Visit the ' +\n",
              "            '<a target=\"_blank\" href=https://colab.research.google.com/notebooks/data_table.ipynb>data table notebook</a>'\n",
              "            + ' to learn more about interactive tables.';\n",
              "          element.innerHTML = '';\n",
              "          dataTable['output_type'] = 'display_data';\n",
              "          await google.colab.output.renderOutput(dataTable, element);\n",
              "          const docLink = document.createElement('div');\n",
              "          docLink.innerHTML = docLinkHtml;\n",
              "          element.appendChild(docLink);\n",
              "        }\n",
              "      </script>\n",
              "    </div>\n",
              "  </div>\n",
              "  "
            ]
          },
          "metadata": {},
          "execution_count": 96
        }
      ]
    },
    {
      "cell_type": "code",
      "source": [
        "# 예시\n",
        "s = \"회사 동료 분들과 다녀왔는데 분위기도 좋고 음식도 맛있었어요 다만, 강남 토끼정이 강남 쉑쉑버거 골목길로 쭉 올라가야 하는데 다들 쉑쉑버거의 유혹에 넘어갈 뻔 했답니다 강남역 맛집 토끼정의 외부 모습.\"\n",
        "for sent in kss.split_sentences(s):\n",
        "    print(sent)"
      ],
      "metadata": {
        "colab": {
          "base_uri": "https://localhost:8080/"
        },
        "id": "ZVlEZ4CDMHRF",
        "outputId": "d8360f8b-8477-4fa6-a5c5-9068756b39be"
      },
      "execution_count": null,
      "outputs": [
        {
          "output_type": "stream",
          "name": "stdout",
          "text": [
            "회사 동료 분들과 다녀왔는데 분위기도 좋고 음식도 맛있었어요\n",
            "다만, 강남 토끼정이 강남 쉑쉑버거 골목길로 쭉 올라가야 하는데 다들 쉑쉑버거의 유혹에 넘어갈 뻔 했답니다 강남역 맛집 토끼정의 외부 모습.\n"
          ]
        }
      ]
    },
    {
      "cell_type": "code",
      "source": [
        "# train_rev, train_shop, predict에 리뷰_split 열 추가\n",
        "train_rev[\"review_split\"] = \"\"\n",
        "train_shop[\"review_split\"] = \"\"\n",
        "predict[\"review_split\"] = \"\""
      ],
      "metadata": {
        "id": "xvSiyzMQfkU3"
      },
      "execution_count": null,
      "outputs": []
    },
    {
      "cell_type": "code",
      "source": [
        "# 확인\n",
        "train_shop[30:40]"
      ],
      "metadata": {
        "colab": {
          "base_uri": "https://localhost:8080/",
          "height": 363
        },
        "id": "FzxNgobNiFA-",
        "outputId": "78b4b269-c3cb-49c4-f131-165eee1e35cb"
      },
      "execution_count": null,
      "outputs": [
        {
          "output_type": "execute_result",
          "data": {
            "text/plain": [
              "    score                                             review  binary  trinary  \\\n",
              "30      2                              설치할때 전압이 넘 높아 퓨즈 나갔어여       0        0   \n",
              "31      2  첨에받았을땐 너무튼튼하구 칸막이도있구 넘맘에들었는데요... 지금도맘에는들어요..근데...       0        0   \n",
              "32      2  휴대폰 각이 잘 안나옴 노트9 사용 얇은 케이스 꺼도 잘 빠지지가 않네요 진짜 불편...       0        0   \n",
              "33      5                                       너무 생각보다 고급스럽       1        2   \n",
              "34      5  가볍고 좋아요. 옵션에 파우치도 있었으면 얼마나 좋았을까 아쉽네요. 따로 구매 했어...       1        2   \n",
              "35      1  총 4개 샀는데,사용하기 전에 부드러운 물티슈로 닦았는데,프린트가 번졌네요 교환하기...       0        0   \n",
              "36      2                                         모기가 않들어가요ᆢ       0        0   \n",
              "37      5                            선물준사람도 받은사람도 모두 만족했어요^^       1        2   \n",
              "38      1  예쁘고 심플해서 샀는데. 재질이 깔끄러워요. 살에 자국 다 베이고ㅠㅠ....폭망이에...       0        0   \n",
              "39      4       고정이 잘되기는 하는데 많이 쓰면 떡진것 처럼 보일까봐 걱정되서 많이 못쓰겠어요       1        2   \n",
              "\n",
              "   review_split  \n",
              "30               \n",
              "31               \n",
              "32               \n",
              "33               \n",
              "34               \n",
              "35               \n",
              "36               \n",
              "37               \n",
              "38               \n",
              "39               "
            ],
            "text/html": [
              "\n",
              "  <div id=\"df-76f7e499-0308-4399-b4bc-5ef025a8c236\">\n",
              "    <div class=\"colab-df-container\">\n",
              "      <div>\n",
              "<style scoped>\n",
              "    .dataframe tbody tr th:only-of-type {\n",
              "        vertical-align: middle;\n",
              "    }\n",
              "\n",
              "    .dataframe tbody tr th {\n",
              "        vertical-align: top;\n",
              "    }\n",
              "\n",
              "    .dataframe thead th {\n",
              "        text-align: right;\n",
              "    }\n",
              "</style>\n",
              "<table border=\"1\" class=\"dataframe\">\n",
              "  <thead>\n",
              "    <tr style=\"text-align: right;\">\n",
              "      <th></th>\n",
              "      <th>score</th>\n",
              "      <th>review</th>\n",
              "      <th>binary</th>\n",
              "      <th>trinary</th>\n",
              "      <th>review_split</th>\n",
              "    </tr>\n",
              "  </thead>\n",
              "  <tbody>\n",
              "    <tr>\n",
              "      <th>30</th>\n",
              "      <td>2</td>\n",
              "      <td>설치할때 전압이 넘 높아 퓨즈 나갔어여</td>\n",
              "      <td>0</td>\n",
              "      <td>0</td>\n",
              "      <td></td>\n",
              "    </tr>\n",
              "    <tr>\n",
              "      <th>31</th>\n",
              "      <td>2</td>\n",
              "      <td>첨에받았을땐 너무튼튼하구 칸막이도있구 넘맘에들었는데요... 지금도맘에는들어요..근데...</td>\n",
              "      <td>0</td>\n",
              "      <td>0</td>\n",
              "      <td></td>\n",
              "    </tr>\n",
              "    <tr>\n",
              "      <th>32</th>\n",
              "      <td>2</td>\n",
              "      <td>휴대폰 각이 잘 안나옴 노트9 사용 얇은 케이스 꺼도 잘 빠지지가 않네요 진짜 불편...</td>\n",
              "      <td>0</td>\n",
              "      <td>0</td>\n",
              "      <td></td>\n",
              "    </tr>\n",
              "    <tr>\n",
              "      <th>33</th>\n",
              "      <td>5</td>\n",
              "      <td>너무 생각보다 고급스럽</td>\n",
              "      <td>1</td>\n",
              "      <td>2</td>\n",
              "      <td></td>\n",
              "    </tr>\n",
              "    <tr>\n",
              "      <th>34</th>\n",
              "      <td>5</td>\n",
              "      <td>가볍고 좋아요. 옵션에 파우치도 있었으면 얼마나 좋았을까 아쉽네요. 따로 구매 했어...</td>\n",
              "      <td>1</td>\n",
              "      <td>2</td>\n",
              "      <td></td>\n",
              "    </tr>\n",
              "    <tr>\n",
              "      <th>35</th>\n",
              "      <td>1</td>\n",
              "      <td>총 4개 샀는데,사용하기 전에 부드러운 물티슈로 닦았는데,프린트가 번졌네요 교환하기...</td>\n",
              "      <td>0</td>\n",
              "      <td>0</td>\n",
              "      <td></td>\n",
              "    </tr>\n",
              "    <tr>\n",
              "      <th>36</th>\n",
              "      <td>2</td>\n",
              "      <td>모기가 않들어가요ᆢ</td>\n",
              "      <td>0</td>\n",
              "      <td>0</td>\n",
              "      <td></td>\n",
              "    </tr>\n",
              "    <tr>\n",
              "      <th>37</th>\n",
              "      <td>5</td>\n",
              "      <td>선물준사람도 받은사람도 모두 만족했어요^^</td>\n",
              "      <td>1</td>\n",
              "      <td>2</td>\n",
              "      <td></td>\n",
              "    </tr>\n",
              "    <tr>\n",
              "      <th>38</th>\n",
              "      <td>1</td>\n",
              "      <td>예쁘고 심플해서 샀는데. 재질이 깔끄러워요. 살에 자국 다 베이고ㅠㅠ....폭망이에...</td>\n",
              "      <td>0</td>\n",
              "      <td>0</td>\n",
              "      <td></td>\n",
              "    </tr>\n",
              "    <tr>\n",
              "      <th>39</th>\n",
              "      <td>4</td>\n",
              "      <td>고정이 잘되기는 하는데 많이 쓰면 떡진것 처럼 보일까봐 걱정되서 많이 못쓰겠어요</td>\n",
              "      <td>1</td>\n",
              "      <td>2</td>\n",
              "      <td></td>\n",
              "    </tr>\n",
              "  </tbody>\n",
              "</table>\n",
              "</div>\n",
              "      <button class=\"colab-df-convert\" onclick=\"convertToInteractive('df-76f7e499-0308-4399-b4bc-5ef025a8c236')\"\n",
              "              title=\"Convert this dataframe to an interactive table.\"\n",
              "              style=\"display:none;\">\n",
              "        \n",
              "  <svg xmlns=\"http://www.w3.org/2000/svg\" height=\"24px\"viewBox=\"0 0 24 24\"\n",
              "       width=\"24px\">\n",
              "    <path d=\"M0 0h24v24H0V0z\" fill=\"none\"/>\n",
              "    <path d=\"M18.56 5.44l.94 2.06.94-2.06 2.06-.94-2.06-.94-.94-2.06-.94 2.06-2.06.94zm-11 1L8.5 8.5l.94-2.06 2.06-.94-2.06-.94L8.5 2.5l-.94 2.06-2.06.94zm10 10l.94 2.06.94-2.06 2.06-.94-2.06-.94-.94-2.06-.94 2.06-2.06.94z\"/><path d=\"M17.41 7.96l-1.37-1.37c-.4-.4-.92-.59-1.43-.59-.52 0-1.04.2-1.43.59L10.3 9.45l-7.72 7.72c-.78.78-.78 2.05 0 2.83L4 21.41c.39.39.9.59 1.41.59.51 0 1.02-.2 1.41-.59l7.78-7.78 2.81-2.81c.8-.78.8-2.07 0-2.86zM5.41 20L4 18.59l7.72-7.72 1.47 1.35L5.41 20z\"/>\n",
              "  </svg>\n",
              "      </button>\n",
              "      \n",
              "  <style>\n",
              "    .colab-df-container {\n",
              "      display:flex;\n",
              "      flex-wrap:wrap;\n",
              "      gap: 12px;\n",
              "    }\n",
              "\n",
              "    .colab-df-convert {\n",
              "      background-color: #E8F0FE;\n",
              "      border: none;\n",
              "      border-radius: 50%;\n",
              "      cursor: pointer;\n",
              "      display: none;\n",
              "      fill: #1967D2;\n",
              "      height: 32px;\n",
              "      padding: 0 0 0 0;\n",
              "      width: 32px;\n",
              "    }\n",
              "\n",
              "    .colab-df-convert:hover {\n",
              "      background-color: #E2EBFA;\n",
              "      box-shadow: 0px 1px 2px rgba(60, 64, 67, 0.3), 0px 1px 3px 1px rgba(60, 64, 67, 0.15);\n",
              "      fill: #174EA6;\n",
              "    }\n",
              "\n",
              "    [theme=dark] .colab-df-convert {\n",
              "      background-color: #3B4455;\n",
              "      fill: #D2E3FC;\n",
              "    }\n",
              "\n",
              "    [theme=dark] .colab-df-convert:hover {\n",
              "      background-color: #434B5C;\n",
              "      box-shadow: 0px 1px 3px 1px rgba(0, 0, 0, 0.15);\n",
              "      filter: drop-shadow(0px 1px 2px rgba(0, 0, 0, 0.3));\n",
              "      fill: #FFFFFF;\n",
              "    }\n",
              "  </style>\n",
              "\n",
              "      <script>\n",
              "        const buttonEl =\n",
              "          document.querySelector('#df-76f7e499-0308-4399-b4bc-5ef025a8c236 button.colab-df-convert');\n",
              "        buttonEl.style.display =\n",
              "          google.colab.kernel.accessAllowed ? 'block' : 'none';\n",
              "\n",
              "        async function convertToInteractive(key) {\n",
              "          const element = document.querySelector('#df-76f7e499-0308-4399-b4bc-5ef025a8c236');\n",
              "          const dataTable =\n",
              "            await google.colab.kernel.invokeFunction('convertToInteractive',\n",
              "                                                     [key], {});\n",
              "          if (!dataTable) return;\n",
              "\n",
              "          const docLinkHtml = 'Like what you see? Visit the ' +\n",
              "            '<a target=\"_blank\" href=https://colab.research.google.com/notebooks/data_table.ipynb>data table notebook</a>'\n",
              "            + ' to learn more about interactive tables.';\n",
              "          element.innerHTML = '';\n",
              "          dataTable['output_type'] = 'display_data';\n",
              "          await google.colab.output.renderOutput(dataTable, element);\n",
              "          const docLink = document.createElement('div');\n",
              "          docLink.innerHTML = docLinkHtml;\n",
              "          element.appendChild(docLink);\n",
              "        }\n",
              "      </script>\n",
              "    </div>\n",
              "  </div>\n",
              "  "
            ]
          },
          "metadata": {},
          "execution_count": 100
        }
      ]
    },
    {
      "cell_type": "markdown",
      "source": [
        "### train_rev"
      ],
      "metadata": {
        "id": "_Hbx0FBTlasJ"
      }
    },
    {
      "cell_type": "code",
      "source": [
        "# train_rev\n",
        "for i in tqdm(range(train_rev.shape[0])):\n",
        "    review = train_rev.loc[i, \"review\"]\n",
        "    review_list = []\n",
        "    for sent in kss.split_sentences(review):\n",
        "        review_list.append(sent)\n",
        "    train_rev.at[i, \"review_split\"] = review_list"
      ],
      "metadata": {
        "colab": {
          "base_uri": "https://localhost:8080/"
        },
        "id": "HtG_UL5rQAfC",
        "outputId": "05bfa8ab-95e0-4d13-ab4b-dcb50fc2e4a3"
      },
      "execution_count": null,
      "outputs": [
        {
          "output_type": "stream",
          "name": "stderr",
          "text": [
            "100%|██████████| 8931/8931 [02:48<00:00, 52.88it/s]\n"
          ]
        }
      ]
    },
    {
      "cell_type": "code",
      "source": [
        "# 확인\n",
        "train_rev[30:40]"
      ],
      "metadata": {
        "colab": {
          "base_uri": "https://localhost:8080/",
          "height": 511
        },
        "id": "aOAteu7GlX2Y",
        "outputId": "3b6f2962-7fa2-46d7-8eac-cc223ab4b7c0"
      },
      "execution_count": null,
      "outputs": [
        {
          "output_type": "execute_result",
          "data": {
            "text/plain": [
              "    index                                             review  score  binary  \\\n",
              "30     30  뼈없는 국물 닭발과 치즈계란말이. 주먹밥의 조화~ 맛집이라 그런지 여성 그룹들이 많...      4       1   \n",
              "31     31  친구소개로 갔는데..깜놀이네요 이런 육즙이 터지는 고기맛은 처음이네요. 인생삼겹인정...      5       1   \n",
              "32     32                        분위기도좋고 고기도맛있어요. 직원들도 친절합니다.      5       1   \n",
              "33     33  블로그보고 예약해서 갔어요.. 대부분 블로그는 광고가 많은데 여기 목살은 블로그에 ...      4       1   \n",
              "34     34  목살이 부드러울수있다니 ㅠㅠ 퍽퍽한거 일도 없이 육즙가득 JMT 바람불어도 냉면을 ...      5       1   \n",
              "35     35  정육왕 블로그 보고 왔는데 목살이 그렇게 맛있다고해서 먹었는데 먹어본 목살중에 제일...      5       1   \n",
              "36     36  고기는 맛있습니다. 순환율이 굉장히 좋은 곳이라 예약하기엔 많이 부담스럽네요. 주문...      2       0   \n",
              "37     37                 불판이 작아서 6명 테이블에 6명이 고기먹기엔 힘들었어요 ㅠㅠ      3       0   \n",
              "38     38                                              좋았습니다      5       1   \n",
              "39     39                         분위기도 좋고 했지만 고기가 얇아 아쉬웠습니다.      4       1   \n",
              "\n",
              "    trinary                                       review_split  \n",
              "30        2  [뼈없는 국물 닭발과 치즈계란말이. 주먹밥의 조화~ 맛집이라 그런지 여성 그룹들이 ...  \n",
              "31        2  [친구소개로 갔는데.., 깜놀이네요, 이런 육즙이 터지는 고기맛은 처음이네요., 인...  \n",
              "32        2                     [분위기도좋고 고기도맛있어요., 직원들도 친절합니다.]  \n",
              "33        2  [블로그보고 예약해서 갔어요.., 대부분 블로그는 광고가 많은데 여기 목살은 블로그...  \n",
              "34        2  [목살이 부드러울수있다니 ㅠㅠ 퍽퍽한거 일도 없이 육즙가득 JMT 바람불어도 냉면을...  \n",
              "35        2  [정육왕 블로그 보고 왔는데 목살이 그렇게 맛있다고해서 먹었는데 먹어본 목살중에 제...  \n",
              "36        0  [고기는 맛있습니다., 순환율이 굉장히 좋은 곳이라 예약하기엔 많이 부담스럽네요.,...  \n",
              "37        1               [불판이 작아서 6명 테이블에 6명이 고기먹기엔 힘들었어요 ㅠㅠ]  \n",
              "38        2                                            [좋았습니다]  \n",
              "39        2                       [분위기도 좋고 했지만 고기가 얇아 아쉬웠습니다.]  "
            ],
            "text/html": [
              "\n",
              "  <div id=\"df-511ea915-f2b3-4152-ad15-e1149ac1c722\">\n",
              "    <div class=\"colab-df-container\">\n",
              "      <div>\n",
              "<style scoped>\n",
              "    .dataframe tbody tr th:only-of-type {\n",
              "        vertical-align: middle;\n",
              "    }\n",
              "\n",
              "    .dataframe tbody tr th {\n",
              "        vertical-align: top;\n",
              "    }\n",
              "\n",
              "    .dataframe thead th {\n",
              "        text-align: right;\n",
              "    }\n",
              "</style>\n",
              "<table border=\"1\" class=\"dataframe\">\n",
              "  <thead>\n",
              "    <tr style=\"text-align: right;\">\n",
              "      <th></th>\n",
              "      <th>index</th>\n",
              "      <th>review</th>\n",
              "      <th>score</th>\n",
              "      <th>binary</th>\n",
              "      <th>trinary</th>\n",
              "      <th>review_split</th>\n",
              "    </tr>\n",
              "  </thead>\n",
              "  <tbody>\n",
              "    <tr>\n",
              "      <th>30</th>\n",
              "      <td>30</td>\n",
              "      <td>뼈없는 국물 닭발과 치즈계란말이. 주먹밥의 조화~ 맛집이라 그런지 여성 그룹들이 많...</td>\n",
              "      <td>4</td>\n",
              "      <td>1</td>\n",
              "      <td>2</td>\n",
              "      <td>[뼈없는 국물 닭발과 치즈계란말이. 주먹밥의 조화~ 맛집이라 그런지 여성 그룹들이 ...</td>\n",
              "    </tr>\n",
              "    <tr>\n",
              "      <th>31</th>\n",
              "      <td>31</td>\n",
              "      <td>친구소개로 갔는데..깜놀이네요 이런 육즙이 터지는 고기맛은 처음이네요. 인생삼겹인정...</td>\n",
              "      <td>5</td>\n",
              "      <td>1</td>\n",
              "      <td>2</td>\n",
              "      <td>[친구소개로 갔는데.., 깜놀이네요, 이런 육즙이 터지는 고기맛은 처음이네요., 인...</td>\n",
              "    </tr>\n",
              "    <tr>\n",
              "      <th>32</th>\n",
              "      <td>32</td>\n",
              "      <td>분위기도좋고 고기도맛있어요. 직원들도 친절합니다.</td>\n",
              "      <td>5</td>\n",
              "      <td>1</td>\n",
              "      <td>2</td>\n",
              "      <td>[분위기도좋고 고기도맛있어요., 직원들도 친절합니다.]</td>\n",
              "    </tr>\n",
              "    <tr>\n",
              "      <th>33</th>\n",
              "      <td>33</td>\n",
              "      <td>블로그보고 예약해서 갔어요.. 대부분 블로그는 광고가 많은데 여기 목살은 블로그에 ...</td>\n",
              "      <td>4</td>\n",
              "      <td>1</td>\n",
              "      <td>2</td>\n",
              "      <td>[블로그보고 예약해서 갔어요.., 대부분 블로그는 광고가 많은데 여기 목살은 블로그...</td>\n",
              "    </tr>\n",
              "    <tr>\n",
              "      <th>34</th>\n",
              "      <td>34</td>\n",
              "      <td>목살이 부드러울수있다니 ㅠㅠ 퍽퍽한거 일도 없이 육즙가득 JMT 바람불어도 냉면을 ...</td>\n",
              "      <td>5</td>\n",
              "      <td>1</td>\n",
              "      <td>2</td>\n",
              "      <td>[목살이 부드러울수있다니 ㅠㅠ 퍽퍽한거 일도 없이 육즙가득 JMT 바람불어도 냉면을...</td>\n",
              "    </tr>\n",
              "    <tr>\n",
              "      <th>35</th>\n",
              "      <td>35</td>\n",
              "      <td>정육왕 블로그 보고 왔는데 목살이 그렇게 맛있다고해서 먹었는데 먹어본 목살중에 제일...</td>\n",
              "      <td>5</td>\n",
              "      <td>1</td>\n",
              "      <td>2</td>\n",
              "      <td>[정육왕 블로그 보고 왔는데 목살이 그렇게 맛있다고해서 먹었는데 먹어본 목살중에 제...</td>\n",
              "    </tr>\n",
              "    <tr>\n",
              "      <th>36</th>\n",
              "      <td>36</td>\n",
              "      <td>고기는 맛있습니다. 순환율이 굉장히 좋은 곳이라 예약하기엔 많이 부담스럽네요. 주문...</td>\n",
              "      <td>2</td>\n",
              "      <td>0</td>\n",
              "      <td>0</td>\n",
              "      <td>[고기는 맛있습니다., 순환율이 굉장히 좋은 곳이라 예약하기엔 많이 부담스럽네요.,...</td>\n",
              "    </tr>\n",
              "    <tr>\n",
              "      <th>37</th>\n",
              "      <td>37</td>\n",
              "      <td>불판이 작아서 6명 테이블에 6명이 고기먹기엔 힘들었어요 ㅠㅠ</td>\n",
              "      <td>3</td>\n",
              "      <td>0</td>\n",
              "      <td>1</td>\n",
              "      <td>[불판이 작아서 6명 테이블에 6명이 고기먹기엔 힘들었어요 ㅠㅠ]</td>\n",
              "    </tr>\n",
              "    <tr>\n",
              "      <th>38</th>\n",
              "      <td>38</td>\n",
              "      <td>좋았습니다</td>\n",
              "      <td>5</td>\n",
              "      <td>1</td>\n",
              "      <td>2</td>\n",
              "      <td>[좋았습니다]</td>\n",
              "    </tr>\n",
              "    <tr>\n",
              "      <th>39</th>\n",
              "      <td>39</td>\n",
              "      <td>분위기도 좋고 했지만 고기가 얇아 아쉬웠습니다.</td>\n",
              "      <td>4</td>\n",
              "      <td>1</td>\n",
              "      <td>2</td>\n",
              "      <td>[분위기도 좋고 했지만 고기가 얇아 아쉬웠습니다.]</td>\n",
              "    </tr>\n",
              "  </tbody>\n",
              "</table>\n",
              "</div>\n",
              "      <button class=\"colab-df-convert\" onclick=\"convertToInteractive('df-511ea915-f2b3-4152-ad15-e1149ac1c722')\"\n",
              "              title=\"Convert this dataframe to an interactive table.\"\n",
              "              style=\"display:none;\">\n",
              "        \n",
              "  <svg xmlns=\"http://www.w3.org/2000/svg\" height=\"24px\"viewBox=\"0 0 24 24\"\n",
              "       width=\"24px\">\n",
              "    <path d=\"M0 0h24v24H0V0z\" fill=\"none\"/>\n",
              "    <path d=\"M18.56 5.44l.94 2.06.94-2.06 2.06-.94-2.06-.94-.94-2.06-.94 2.06-2.06.94zm-11 1L8.5 8.5l.94-2.06 2.06-.94-2.06-.94L8.5 2.5l-.94 2.06-2.06.94zm10 10l.94 2.06.94-2.06 2.06-.94-2.06-.94-.94-2.06-.94 2.06-2.06.94z\"/><path d=\"M17.41 7.96l-1.37-1.37c-.4-.4-.92-.59-1.43-.59-.52 0-1.04.2-1.43.59L10.3 9.45l-7.72 7.72c-.78.78-.78 2.05 0 2.83L4 21.41c.39.39.9.59 1.41.59.51 0 1.02-.2 1.41-.59l7.78-7.78 2.81-2.81c.8-.78.8-2.07 0-2.86zM5.41 20L4 18.59l7.72-7.72 1.47 1.35L5.41 20z\"/>\n",
              "  </svg>\n",
              "      </button>\n",
              "      \n",
              "  <style>\n",
              "    .colab-df-container {\n",
              "      display:flex;\n",
              "      flex-wrap:wrap;\n",
              "      gap: 12px;\n",
              "    }\n",
              "\n",
              "    .colab-df-convert {\n",
              "      background-color: #E8F0FE;\n",
              "      border: none;\n",
              "      border-radius: 50%;\n",
              "      cursor: pointer;\n",
              "      display: none;\n",
              "      fill: #1967D2;\n",
              "      height: 32px;\n",
              "      padding: 0 0 0 0;\n",
              "      width: 32px;\n",
              "    }\n",
              "\n",
              "    .colab-df-convert:hover {\n",
              "      background-color: #E2EBFA;\n",
              "      box-shadow: 0px 1px 2px rgba(60, 64, 67, 0.3), 0px 1px 3px 1px rgba(60, 64, 67, 0.15);\n",
              "      fill: #174EA6;\n",
              "    }\n",
              "\n",
              "    [theme=dark] .colab-df-convert {\n",
              "      background-color: #3B4455;\n",
              "      fill: #D2E3FC;\n",
              "    }\n",
              "\n",
              "    [theme=dark] .colab-df-convert:hover {\n",
              "      background-color: #434B5C;\n",
              "      box-shadow: 0px 1px 3px 1px rgba(0, 0, 0, 0.15);\n",
              "      filter: drop-shadow(0px 1px 2px rgba(0, 0, 0, 0.3));\n",
              "      fill: #FFFFFF;\n",
              "    }\n",
              "  </style>\n",
              "\n",
              "      <script>\n",
              "        const buttonEl =\n",
              "          document.querySelector('#df-511ea915-f2b3-4152-ad15-e1149ac1c722 button.colab-df-convert');\n",
              "        buttonEl.style.display =\n",
              "          google.colab.kernel.accessAllowed ? 'block' : 'none';\n",
              "\n",
              "        async function convertToInteractive(key) {\n",
              "          const element = document.querySelector('#df-511ea915-f2b3-4152-ad15-e1149ac1c722');\n",
              "          const dataTable =\n",
              "            await google.colab.kernel.invokeFunction('convertToInteractive',\n",
              "                                                     [key], {});\n",
              "          if (!dataTable) return;\n",
              "\n",
              "          const docLinkHtml = 'Like what you see? Visit the ' +\n",
              "            '<a target=\"_blank\" href=https://colab.research.google.com/notebooks/data_table.ipynb>data table notebook</a>'\n",
              "            + ' to learn more about interactive tables.';\n",
              "          element.innerHTML = '';\n",
              "          dataTable['output_type'] = 'display_data';\n",
              "          await google.colab.output.renderOutput(dataTable, element);\n",
              "          const docLink = document.createElement('div');\n",
              "          docLink.innerHTML = docLinkHtml;\n",
              "          element.appendChild(docLink);\n",
              "        }\n",
              "      </script>\n",
              "    </div>\n",
              "  </div>\n",
              "  "
            ]
          },
          "metadata": {},
          "execution_count": 83
        }
      ]
    },
    {
      "cell_type": "code",
      "source": [
        "train_rev.loc[33, \"review_split\"]"
      ],
      "metadata": {
        "colab": {
          "base_uri": "https://localhost:8080/"
        },
        "id": "zjOEAL3C4kMn",
        "outputId": "12325199-cc5c-4dbb-d9aa-15849a88e454"
      },
      "execution_count": null,
      "outputs": [
        {
          "output_type": "execute_result",
          "data": {
            "text/plain": [
              "['블로그보고 예약해서 갔어요..',\n",
              " '대부분 블로그는 광고가 많은데 여기 목살은 블로그에 나온것처럼 진짜 맛이있네요...',\n",
              " '감칠맛이랄까...ㅋㅋ',\n",
              " '첨으로 먹어본 목살맛이었어요.,. 후회없는 선택이었습니다^^',\n",
              " '강추!!!!']"
            ]
          },
          "metadata": {},
          "execution_count": 87
        }
      ]
    },
    {
      "cell_type": "code",
      "source": [
        "# csv 파일로 저장\n",
        "train_rev.to_csv('/content/drive/MyDrive/[22-2] 딥러닝개론/project/data_external/train_rev_split.csv')"
      ],
      "metadata": {
        "id": "z2j1ZmtfmcVt"
      },
      "execution_count": null,
      "outputs": []
    },
    {
      "cell_type": "markdown",
      "source": [
        "### train_shop"
      ],
      "metadata": {
        "id": "1lzkt33Mldor"
      }
    },
    {
      "cell_type": "code",
      "source": [
        "# train_shop\n",
        "for i in tqdm(range(train_shop.shape[0])):\n",
        "    review = train_shop.loc[i, \"review\"]\n",
        "    review_list = []\n",
        "    for sent in kss.split_sentences(review):\n",
        "        review_list.append(sent)\n",
        "    train_shop.at[i, \"review_split\"] = review_list"
      ],
      "metadata": {
        "colab": {
          "base_uri": "https://localhost:8080/"
        },
        "id": "WAKNA_uSlfAQ",
        "outputId": "101a0a1a-d5b5-46d4-b9a4-a5ef0ff91d9f"
      },
      "execution_count": null,
      "outputs": [
        {
          "output_type": "stream",
          "name": "stderr",
          "text": [
            "100%|██████████| 200000/200000 [53:03<00:00, 62.82it/s]\n"
          ]
        }
      ]
    },
    {
      "cell_type": "code",
      "source": [
        "# 확인\n",
        "train_shop.loc[31, \"review_split\"]"
      ],
      "metadata": {
        "colab": {
          "base_uri": "https://localhost:8080/"
        },
        "id": "XSDTwixvp4SO",
        "outputId": "5f124b17-56d5-4756-fc5b-138d90a8b1cb"
      },
      "execution_count": null,
      "outputs": [
        {
          "output_type": "execute_result",
          "data": {
            "text/plain": [
              "['첨에받았을땐 너무튼튼하구 칸막이도있구 넘맘에들었는데요...',\n",
              " '지금도맘에는들어요..',\n",
              " '근데....먼지가 먼지가 세상먼지다묻어요ㅠㅠ',\n",
              " '흑흑ㅠ 집에가만히 뒀는데도 먼지가다묻어있어요ㅠ',\n",
              " '한번들고 그냥 모셔두었어요ㅜㅜ',\n",
              " '까만색은 넘나비추입니다ㅠ',\n",
              " '아이보리로살껄...ㅠ']"
            ]
          },
          "metadata": {},
          "execution_count": 110
        }
      ]
    },
    {
      "cell_type": "code",
      "source": [
        "# csv 파일로 저장\n",
        "train_rev.to_csv('/content/drive/MyDrive/[22-2] 딥러닝개론/project/data_external/train_shop_split.csv')"
      ],
      "metadata": {
        "id": "8xyLw22ip3Ci"
      },
      "execution_count": null,
      "outputs": []
    },
    {
      "cell_type": "markdown",
      "source": [
        "### predict\n",
        "- predict의 \\\\n은 왜 제거가 안됐는지 모르겠으나.. 제거 없이도 잘 되는 것 같아서 일단 그대로 가는걸로"
      ],
      "metadata": {
        "id": "fVzBD4M1lfmO"
      }
    },
    {
      "cell_type": "code",
      "source": [
        "# predict\n",
        "for i in tqdm(range(predict.shape[0])):\n",
        "    review = predict.loc[i, \"리뷰\"]\n",
        "    review_list = []\n",
        "    try:\n",
        "        for sent in kss.split_sentences(review):\n",
        "            review_list.append(sent)\n",
        "        predict.at[i, \"review_split\"] = review_list\n",
        "    except:\n",
        "        predict.at[i, \"review_split\"] = predict.at[i, \"리뷰\"]"
      ],
      "metadata": {
        "colab": {
          "base_uri": "https://localhost:8080/"
        },
        "id": "qEvV3srSpVH3",
        "outputId": "f88f9af8-2033-465f-9b32-adaa35769566"
      },
      "execution_count": null,
      "outputs": [
        {
          "output_type": "stream",
          "name": "stderr",
          "text": [
            "100%|██████████| 112553/112553 [20:15<00:00, 92.62it/s]\n"
          ]
        }
      ]
    },
    {
      "cell_type": "code",
      "source": [
        "# 확인\n",
        "predict.loc[52, \"review_split\"]"
      ],
      "metadata": {
        "colab": {
          "base_uri": "https://localhost:8080/"
        },
        "id": "3aIKjbA-p5DK",
        "outputId": "883f314f-934b-43ab-e581-4a9a77f5845a"
      },
      "execution_count": null,
      "outputs": [
        {
          "output_type": "execute_result",
          "data": {
            "text/plain": [
              "['밥 왜이렇게 늦게먹냐고 이럴줄 알았으면 밥 안 줬다고 주인이 역정내는집. 7시에 주문- 7시 20분에 밥나옴 - 식사 20분째부터 사장이 그릇치우기 시작\\\\n하더니 밥 왜이리 늦게 먹냐',\n",
              " '나 퇴근해야된다.',\n",
              " '이럴줄알았음',\n",
              " '밥 안줬다(진짜 이렇게말함)정색하고 꾸짖음ㅋㅋ 기분 잡쳐서 걍 그자리에서 계산하니까 \\\\n왜 남기냐고 다 먹고가라고함. ㅋㅌㅋㅋㅋ',\n",
              " '다시는 안감 진짜 장사 그렇게하지마세요',\n",
              " '퉤']"
            ]
          },
          "metadata": {},
          "execution_count": 127
        }
      ]
    },
    {
      "cell_type": "code",
      "source": [
        "predict.loc[63, \"review_split\"]"
      ],
      "metadata": {
        "colab": {
          "base_uri": "https://localhost:8080/"
        },
        "id": "SgzwM4wlW72P",
        "outputId": "47a9afb3-0634-4782-f3a6-2f877f2e77cb"
      },
      "execution_count": null,
      "outputs": [
        {
          "output_type": "execute_result",
          "data": {
            "text/plain": [
              "['곤드레밥 먹고싶을때 종종 찾습니다.',\n",
              " '반찬종류도 많고 양도 넉넉히 나오네요~\\\\n개인적으로 곤드레가 좀더 많이 들어가면 좋겠고 반찬이 덜 짜면 좋겠어요~',\n",
              " '\\\\n그래도 맛나고 배부르게 잘 먹었어요^^']"
            ]
          },
          "metadata": {},
          "execution_count": 138
        }
      ]
    },
    {
      "cell_type": "code",
      "source": [
        "# csv 파일로 저장\n",
        "train_rev.to_csv('/content/drive/MyDrive/[22-2] 딥러닝개론/project/data_crawling/predict_split.csv')"
      ],
      "metadata": {
        "id": "O5TPEd41p3nP"
      },
      "execution_count": null,
      "outputs": []
    }
  ]
}